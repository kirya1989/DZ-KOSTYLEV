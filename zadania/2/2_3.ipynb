{
 "cells": [
  {
   "cell_type": "code",
   "execution_count": 37,
   "metadata": {},
   "outputs": [],
   "source": [
    "import numpy as np"
   ]
  },
  {
   "cell_type": "code",
   "execution_count": 38,
   "metadata": {},
   "outputs": [
    {
     "data": {
      "text/plain": [
       "array([[  7., -44.,  21.,  14.,  48., -26.],\n",
       "       [ 94.,  62.,  25., 131., -52.,  32.],\n",
       "       [127., 115.,  -7.,  48.,  41.,  42.],\n",
       "       [ 67., -48.,  15., 119., -35., -12.],\n",
       "       [ 99.,  24., 104., -34., -35.,  47.],\n",
       "       [-12.,  25.,  28.,  80., 102.,  22.]])"
      ]
     },
     "execution_count": 38,
     "metadata": {},
     "output_type": "execute_result"
    }
   ],
   "source": [
    "data = np.genfromtxt('data.csv', delimiter=';')\n",
    "data"
   ]
  },
  {
   "cell_type": "code",
   "execution_count": 41,
   "metadata": {},
   "outputs": [
    {
     "data": {
      "text/plain": [
       "(-52.0, 131.0)"
      ]
     },
     "execution_count": 41,
     "metadata": {},
     "output_type": "execute_result"
    }
   ],
   "source": [
    "dmin, dmax = np.min(data), np.max(data)\n",
    "dmin, dmax"
   ]
  },
  {
   "cell_type": "code",
   "execution_count": 40,
   "metadata": {},
   "outputs": [
    {
     "data": {
      "text/plain": [
       "array([[  7., -44.,  21.,  14.,  48., -26.],\n",
       "       [ 94.,  62.,  25., -52., 131.,  32.],\n",
       "       [127., 115.,  -7.,  48.,  41.,  42.],\n",
       "       [ 67., -48.,  15., 119., -35., -12.],\n",
       "       [ 99.,  24., 104., -34., -35.,  47.],\n",
       "       [-12.,  25.,  28.,  80., 102.,  22.]])"
      ]
     },
     "execution_count": 40,
     "metadata": {},
     "output_type": "execute_result"
    }
   ],
   "source": [
    "min_pos = np.where(data == dmin)\n",
    "max_pos = np.where(data == dmax)\n",
    "\n",
    "data[min_pos] = dmax\n",
    "data[max_pos] = dmin\n",
    "\n",
    "data"
   ]
  },
  {
   "cell_type": "code",
   "execution_count": null,
   "metadata": {},
   "outputs": [],
   "source": []
  }
 ],
 "metadata": {
  "kernelspec": {
   "display_name": "Python 3",
   "language": "python",
   "name": "python3"
  },
  "language_info": {
   "codemirror_mode": {
    "name": "ipython",
    "version": 3
   },
   "file_extension": ".py",
   "mimetype": "text/x-python",
   "name": "python",
   "nbconvert_exporter": "python",
   "pygments_lexer": "ipython3",
   "version": "3.10.6"
  },
  "orig_nbformat": 4
 },
 "nbformat": 4,
 "nbformat_minor": 2
}
