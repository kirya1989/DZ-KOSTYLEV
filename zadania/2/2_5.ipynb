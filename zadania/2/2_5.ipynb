{
 "cells": [
  {
   "cell_type": "code",
   "execution_count": 2,
   "metadata": {},
   "outputs": [
    {
     "name": "stdout",
     "output_type": "stream",
     "text": [
      "[0.  0.2 0.4]\n",
      "[0.  0.2 0.6]\n"
     ]
    }
   ],
   "source": [
    "import numpy as np\n",
    "\n",
    "w = np.zeros((3))\n",
    "\n",
    "D = np.array([\n",
    "    [0,0,0],\n",
    "    [0,0,1],\n",
    "    [0,1,0],\n",
    "    [1,0,0],\n",
    "    [0,1,1],\n",
    "])\n",
    "\n",
    "Y0 = np.array([0,1,0,0,1])\n",
    "\n",
    "α = 0.2\n",
    "β = -0.4\n",
    "σ = lambda x: 1 if x > 0 else 0\n",
    "\n",
    "def f(x):\n",
    "    s = β + np.sum(x @ w)\n",
    "    return σ(s)\n",
    "\n",
    "def train():\n",
    "    global w\n",
    "    _w = w.copy()\n",
    "    for x, y in zip(D, Y0):\n",
    "        w += α * (y - f(x)) * x\n",
    "    return (w != _w).any()\n",
    "            \n",
    "while train():\n",
    "    print(w)"
   ]
  },
  {
   "cell_type": "code",
   "execution_count": 6,
   "metadata": {},
   "outputs": [
    {
     "data": {
      "text/plain": [
       "0"
      ]
     },
     "execution_count": 6,
     "metadata": {},
     "output_type": "execute_result"
    }
   ],
   "source": [
    "f([1, 1, 0])"
   ]
  }
 ],
 "metadata": {
  "kernelspec": {
   "display_name": "Python 3",
   "language": "python",
   "name": "python3"
  },
  "language_info": {
   "codemirror_mode": {
    "name": "ipython",
    "version": 3
   },
   "file_extension": ".py",
   "mimetype": "text/x-python",
   "name": "python",
   "nbconvert_exporter": "python",
   "pygments_lexer": "ipython3",
   "version": "3.10.6"
  },
  "orig_nbformat": 4
 },
 "nbformat": 4,
 "nbformat_minor": 2
}
